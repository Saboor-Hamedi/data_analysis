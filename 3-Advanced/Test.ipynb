{
 "cells": [
  {
   "cell_type": "code",
   "execution_count": null,
   "id": "c6cb8ccc",
   "metadata": {},
   "outputs": [],
   "source": [
    "\"Test for advanced python\""
   ]
  }
 ],
 "metadata": {
  "language_info": {
   "name": "python"
  }
 },
 "nbformat": 4,
 "nbformat_minor": 5
}
