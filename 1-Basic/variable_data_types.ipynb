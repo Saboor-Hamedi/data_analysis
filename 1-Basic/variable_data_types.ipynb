{
 "cells": [
  {
   "cell_type": "markdown",
   "id": "9a506c7e",
   "metadata": {},
   "source": [
    "### Variables and data types"
   ]
  },
  {
   "cell_type": "code",
   "execution_count": 1,
   "id": "487bbfbe",
   "metadata": {},
   "outputs": [
    {
     "name": "stdout",
     "output_type": "stream",
     "text": [
      "saboor\n",
      "20\n",
      "5.8\n",
      "True\n",
      "<class 'str'>\n",
      "<class 'int'>\n",
      "<class 'float'>\n",
      "<class 'bool'>\n"
     ]
    }
   ],
   "source": [
    "name = \"saboor\" # str \n",
    "age = 20 # int\n",
    "height = 5.8 # float\n",
    "is_male = True # bool\n",
    "print(name)\n",
    "print(age)\n",
    "print(height)\n",
    "print(is_male)\n",
    "\n",
    "print(type(name))   \n",
    "print(type(age))\n",
    "print(type(height))\n",
    "print(type(is_male))"
   ]
  }
 ],
 "metadata": {
  "kernelspec": {
   "display_name": "base",
   "language": "python",
   "name": "python3"
  },
  "language_info": {
   "codemirror_mode": {
    "name": "ipython",
    "version": 3
   },
   "file_extension": ".py",
   "mimetype": "text/x-python",
   "name": "python",
   "nbconvert_exporter": "python",
   "pygments_lexer": "ipython3",
   "version": "3.11.4"
  }
 },
 "nbformat": 4,
 "nbformat_minor": 5
}
