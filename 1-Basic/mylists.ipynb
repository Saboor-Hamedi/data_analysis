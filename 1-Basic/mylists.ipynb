{
 "cells": [
  {
   "cell_type": "code",
   "execution_count": 1,
   "id": "d332d755",
   "metadata": {},
   "outputs": [
    {
     "name": "stdout",
     "output_type": "stream",
     "text": [
      "[1, 2, 3, 4, 5, 6]\n"
     ]
    }
   ],
   "source": [
    "mylist = [1,2,3,4,5,6]\n",
    "print(mylist)"
   ]
  },
  {
   "cell_type": "markdown",
   "id": "7f00ef12",
   "metadata": {},
   "source": [
    "# List Items\n",
    "List items are ordered, changeable, and allow duplicate values.\n",
    "\n",
    "List items are indexed, the first item has index [0], the second item has index [1] etc."
   ]
  },
  {
   "cell_type": "code",
   "execution_count": 2,
   "id": "58403055",
   "metadata": {},
   "outputs": [
    {
     "name": "stdout",
     "output_type": "stream",
     "text": [
      "[1, 2, 3, 4, 5, 6, 7, 8, 9, 10, 3, 4, 5]\n"
     ]
    }
   ],
   "source": [
    "mylist = [1,2,3,4,5,6,7,8,9,10, 3,4,5]\n",
    "print(mylist)"
   ]
  },
  {
   "cell_type": "code",
   "execution_count": 3,
   "id": "24c6f571",
   "metadata": {},
   "outputs": [
    {
     "name": "stdout",
     "output_type": "stream",
     "text": [
      "13\n"
     ]
    }
   ],
   "source": [
    "print(len(mylist))"
   ]
  },
  {
   "cell_type": "markdown",
   "id": "b601b94a",
   "metadata": {},
   "source": [
    "### Data Types"
   ]
  },
  {
   "cell_type": "code",
   "execution_count": 4,
   "id": "86f1e146",
   "metadata": {},
   "outputs": [
    {
     "name": "stdout",
     "output_type": "stream",
     "text": [
      "['apple', 'orange', 'watermelon']\n"
     ]
    }
   ],
   "source": [
    "list1 = ['apple', 'orange', 'watermelon']\n",
    "print(list1)"
   ]
  },
  {
   "cell_type": "code",
   "execution_count": 5,
   "id": "de149758",
   "metadata": {},
   "outputs": [
    {
     "name": "stdout",
     "output_type": "stream",
     "text": [
      "<class 'list'>\n"
     ]
    }
   ],
   "source": [
    "print(type(list1))"
   ]
  },
  {
   "cell_type": "markdown",
   "id": "0524ba4e",
   "metadata": {},
   "source": [
    "### Loop \n",
    "Loop through a list"
   ]
  },
  {
   "cell_type": "code",
   "execution_count": 6,
   "id": "e496a703",
   "metadata": {},
   "outputs": [
    {
     "name": "stdout",
     "output_type": "stream",
     "text": [
      "apple\n",
      "orange\n",
      "watermelon\n"
     ]
    }
   ],
   "source": [
    "for i in list1:\n",
    "    print(i)"
   ]
  },
  {
   "cell_type": "code",
   "execution_count": 11,
   "id": "ad18edb3",
   "metadata": {},
   "outputs": [
    {
     "name": "stdout",
     "output_type": "stream",
     "text": [
      "['a', 'ap']\n",
      "['o', 'or']\n",
      "['w', 'wa']\n"
     ]
    }
   ],
   "source": [
    "for x in list1:\n",
    "    print(([x[0],x[:2]]))"
   ]
  },
  {
   "cell_type": "markdown",
   "id": "4938eebf",
   "metadata": {},
   "source": [
    "### for loop vs List comprehension"
   ]
  },
  {
   "cell_type": "code",
   "execution_count": 21,
   "id": "8e71b599",
   "metadata": {},
   "outputs": [
    {
     "name": "stdout",
     "output_type": "stream",
     "text": [
      "[1, 4, 9, 16, 25]\n"
     ]
    }
   ],
   "source": [
    "numbers =[1,2,3,4,5]\n",
    "square_numbers= []\n",
    "for num in numbers:\n",
    "    square_numbers.append(num*num)\n",
    "print(square_numbers)"
   ]
  },
  {
   "cell_type": "markdown",
   "id": "73f26bdb",
   "metadata": {},
   "source": [
    "### List comprehension\n",
    "this is the shortcut way to create a list"
   ]
  },
  {
   "cell_type": "code",
   "execution_count": 22,
   "id": "99162711",
   "metadata": {},
   "outputs": [
    {
     "name": "stdout",
     "output_type": "stream",
     "text": [
      "[1, 4, 9, 16, 25]\n"
     ]
    }
   ],
   "source": [
    "numbers = [1,2,3,4,5,]\n",
    "square_numbers = [num * num for num in numbers]\n",
    "print(square_numbers)"
   ]
  },
  {
   "cell_type": "code",
   "execution_count": 28,
   "id": "a29cbe75",
   "metadata": {},
   "outputs": [
    {
     "name": "stdout",
     "output_type": "stream",
     "text": [
      "[2, 4, 6, 8]\n"
     ]
    }
   ],
   "source": [
    "# filter even numbers from a lists \n",
    "even_number  = [num for num in range(1,10) if num % 2==0]\n",
    "print(even_number)"
   ]
  },
  {
   "cell_type": "code",
   "execution_count": 38,
   "id": "60fa03dc",
   "metadata": {},
   "outputs": [
    {
     "name": "stdout",
     "output_type": "stream",
     "text": [
      "[1, 3, 5, 7, 9, 11, 13, 15, 17, 19, 21, 23]\n"
     ]
    }
   ],
   "source": [
    "# filter odd numbers \n",
    "odd_numbers = [odd for odd in range(0,25) if int(odd) % 2 != 0]\n",
    "# odd_numbers= [odd for odd in range(0,25) if odd % 2==1]\n",
    "print(odd_numbers)"
   ]
  },
  {
   "cell_type": "code",
   "execution_count": null,
   "id": "0da05753",
   "metadata": {},
   "outputs": [],
   "source": [
    "[1, 3, 5, 7, 9, 11, 13, 15, 17, 19, 21, 23]\n",
    "[1, 3, 5, 7, 9, 11, 13, 15, 17, 19, 21, 23]"
   ]
  },
  {
   "cell_type": "code",
   "execution_count": 42,
   "id": "4b66335f",
   "metadata": {},
   "outputs": [
    {
     "name": "stdout",
     "output_type": "stream",
     "text": [
      "['o', 'a', 'a', 'a', 'i', 'o', 'e']\n"
     ]
    }
   ],
   "source": [
    "word =\"python Data Analysis Projec\"\n",
    "vowels = \"aeiou\"\n",
    "# find vowels in a string \n",
    "results = [char for char in word if char in vowels]\n",
    "print(results)"
   ]
  },
  {
   "cell_type": "code",
   "execution_count": null,
   "id": "f495bcd4",
   "metadata": {},
   "outputs": [
    {
     "name": "stdout",
     "output_type": "stream",
     "text": [
      "The length of werd is: 27\n",
      "The word is: 'Pythong is a great language'\n",
      "Vowel found (case-insensitive): ['o', 'i', 'a', 'e', 'a', 'a', 'u', 'a', 'e'])\n",
      "------------Vowel Lengths-----------\n",
      "The number of vowel in the word is: 9\n",
      "------------Vowel latters-----------\n",
      "O, I, A, E, A, A, U, A, E\n"
     ]
    }
   ],
   "source": [
    "word = \"PYTHONG IS A GREAT LANGUAGE\"\n",
    "vowels = 'aeiou'\n",
    "res= [i.lower() for i in word if i.lower() in vowels]\n",
    "print(f\"The length of werd is: {len(word)}\")\n",
    "print(f\"The word is: '{word.capitalize()}'\")\n",
    "print(f\"Vowel found (case-insensitive): {res})\")\n",
    "print('------------Vowel Lengths-----------')\n",
    "\n",
    "count_vowels = sum(1 for char in word if char.lower() in vowels)\n",
    "print(f\"The number of vowel in the word is: {count_vowels}\")\n",
    "\n",
    "print('------------Vowel latters-----------')\n",
    "vowel_latters = [latters for latters in word if latters.lower() in vowels]\n",
    "remove_single_quotes = ', '.join(vowel_latters)\n",
    "print(remove_single_quotes)\n"
   ]
  },
  {
   "cell_type": "code",
   "execution_count": null,
   "id": "aa9a66d8",
   "metadata": {},
   "outputs": [],
   "source": []
  }
 ],
 "metadata": {
  "kernelspec": {
   "display_name": "base",
   "language": "python",
   "name": "python3"
  },
  "language_info": {
   "codemirror_mode": {
    "name": "ipython",
    "version": 3
   },
   "file_extension": ".py",
   "mimetype": "text/x-python",
   "name": "python",
   "nbconvert_exporter": "python",
   "pygments_lexer": "ipython3",
   "version": "3.11.4"
  }
 },
 "nbformat": 4,
 "nbformat_minor": 5
}
