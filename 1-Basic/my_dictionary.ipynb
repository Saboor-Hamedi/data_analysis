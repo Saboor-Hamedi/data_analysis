{
 "cells": [
  {
   "cell_type": "markdown",
   "id": "2e724186",
   "metadata": {},
   "source": [
    "# Dictionary (key-value pairs)"
   ]
  },
  {
   "cell_type": "code",
   "execution_count": 1,
   "id": "f3143b52",
   "metadata": {},
   "outputs": [
    {
     "name": "stdout",
     "output_type": "stream",
     "text": [
      "{'name': 'John', 'age': 30, 'city': 'New York'}\n"
     ]
    }
   ],
   "source": [
    "person = {'name': 'John', 'age': 30, 'city': 'New York'}\n",
    "print(person)"
   ]
  },
  {
   "cell_type": "markdown",
   "id": "6884f205",
   "metadata": {},
   "source": [
    "Take indivual items"
   ]
  },
  {
   "cell_type": "code",
   "execution_count": 2,
   "id": "80ac917e",
   "metadata": {},
   "outputs": [
    {
     "name": "stdout",
     "output_type": "stream",
     "text": [
      "John\n"
     ]
    }
   ],
   "source": [
    "print(person['name'])"
   ]
  },
  {
   "cell_type": "markdown",
   "id": "bd700466",
   "metadata": {},
   "source": [
    "Go through all items"
   ]
  },
  {
   "cell_type": "code",
   "execution_count": 9,
   "id": "b8fc6220",
   "metadata": {},
   "outputs": [
    {
     "name": "stdout",
     "output_type": "stream",
     "text": [
      "John\n",
      "30\n",
      "New York\n"
     ]
    }
   ],
   "source": [
    "for x in person:\n",
    "    print(person[x])"
   ]
  },
  {
   "cell_type": "code",
   "execution_count": 20,
   "id": "89be5a5f",
   "metadata": {},
   "outputs": [
    {
     "name": "stdout",
     "output_type": "stream",
     "text": [
      "Vowel found are {'e', 'o'}\n"
     ]
    }
   ],
   "source": [
    "# check if there is ny vowels \n",
    "vowels = 'aeiou'\n",
    "find_vowels = []\n",
    "for value in person.values():\n",
    "    for char in str(value).lower():\n",
    "        if char in vowels:\n",
    "            find_vowels.append(char)\n",
    "\n",
    "print(f\"Vowel found are {set(find_vowels)}\")"
   ]
  },
  {
   "cell_type": "code",
   "execution_count": null,
   "id": "d71c6d4c",
   "metadata": {},
   "outputs": [],
   "source": []
  }
 ],
 "metadata": {
  "kernelspec": {
   "display_name": "base",
   "language": "python",
   "name": "python3"
  },
  "language_info": {
   "codemirror_mode": {
    "name": "ipython",
    "version": 3
   },
   "file_extension": ".py",
   "mimetype": "text/x-python",
   "name": "python",
   "nbconvert_exporter": "python",
   "pygments_lexer": "ipython3",
   "version": "3.11.4"
  }
 },
 "nbformat": 4,
 "nbformat_minor": 5
}
